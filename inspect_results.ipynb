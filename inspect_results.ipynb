{
 "cells": [
  {
   "cell_type": "code",
   "execution_count": 1,
   "id": "8e7cfffd",
   "metadata": {},
   "outputs": [],
   "source": [
    "import pickle\n",
    "import matplotlib.pyplot as plt"
   ]
  },
  {
   "cell_type": "code",
   "execution_count": 2,
   "id": "c8e76302",
   "metadata": {},
   "outputs": [],
   "source": [
    "def read_from_pickle(path):\n",
    "    output = None\n",
    "    with open(path, 'rb') as file:\n",
    "        try:\n",
    "            while True:\n",
    "                output =  pickle.load(file)\n",
    "        except EOFError:\n",
    "            pass\n",
    "    return output"
   ]
  },
  {
   "cell_type": "code",
   "execution_count": 19,
   "id": "54042314",
   "metadata": {},
   "outputs": [],
   "source": [
    "def find_non_zero_cams(cams):\n",
    "    non_zero_cams = []\n",
    "    for cam in cams:\n",
    "#         print(cam[0].sum())\n",
    "        if cam[0].sum() != 0:\n",
    "            print(cam[0])\n",
    "            plt.imshow(cam[0])\n",
    "            non_zero_cams.append(cam)\n",
    "    return non_zero_cams"
   ]
  },
  {
   "cell_type": "code",
   "execution_count": 8,
   "id": "f894c328",
   "metadata": {},
   "outputs": [
    {
     "data": {
      "image/png": "[encoded data removed]",
      "text/plain": [
       "<Figure size 432x288 with 1 Axes>"
      ]
     },
     "metadata": {
      "needs_background": "light"
     },
     "output_type": "display_data"
    }
   ],
   "source": [
    "out = read_from_pickle('src/CAM_list.pickle')\n",
    "plt.figure()\n",
    "plt.imshow(out[-1][0])\n",
    "plt.show()"
   ]
  },
  {
   "cell_type": "code",
   "execution_count": 20,
   "id": "39fe08f9",
   "metadata": {},
   "outputs": [
    {
     "name": "stdout",
     "output_type": "stream",
     "text": [
      "[[-0.4085084  -0.40732735  0.20241608 ... -1.8726221  -1.6647822\n",
      "  -1.1871734 ]\n",
      " [-0.88870037 -1.0753627  -0.27167928 ... -3.0540633  -2.433355\n",
      "  -1.6162871 ]\n",
      " [-1.479728   -1.9849145  -1.2963812  ... -3.485196   -2.2678814\n",
      "  -1.2543495 ]\n",
      " ...\n",
      " [-0.18453571 -0.01885693  0.07319621 ... -2.4910302  -2.2388759\n",
      "  -1.4811009 ]\n",
      " [-0.01393461 -0.00555222 -0.30278772 ... -1.9767499  -2.068245\n",
      "  -1.5534096 ]\n",
      " [-0.22032216 -0.44694036 -0.81164956 ... -1.2755967  -1.4683623\n",
      "  -1.1702974 ]]\n",
      "/home/ubuntu/deepsolar/data/dummy/val/1/WMCRG9D3GCJCD.png\n"
     ]
    },
    {
     "data": {
      "image/png": "[encoded data removed]",
      "text/plain": [
       "<Figure size 432x288 with 1 Axes>"
      ]
     },
     "metadata": {
      "needs_background": "light"
     },
     "output_type": "display_data"
    }
   ],
   "source": [
    "nonzero_out = find_non_zero_cams(out)\n",
    "for nz in nonzero_out:\n",
    "    print(nz[1])"
   ]
  },
  {
   "cell_type": "code",
   "execution_count": null,
   "id": "85049c70",
   "metadata": {},
   "outputs": [],
   "source": []
  }
 ],
 "metadata": {
  "kernelspec": {
   "display_name": "Python 3 (ipykernel)",
   "language": "python",
   "name": "python3"
  },
  "language_info": {
   "codemirror_mode": {
    "name": "ipython",
    "version": 3
   },
   "file_extension": ".py",
   "mimetype": "text/x-python",
   "name": "python",
   "nbconvert_exporter": "python",
   "pygments_lexer": "ipython3",
   "version": "3.9.7"
  }
 },
 "nbformat": 4,
 "nbformat_minor": 5
}
